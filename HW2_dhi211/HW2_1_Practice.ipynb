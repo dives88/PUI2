{
 "cells": [
  {
   "cell_type": "code",
   "execution_count": 1,
   "metadata": {
    "collapsed": true
   },
   "outputs": [],
   "source": [
    "from __future__ import print_function\n",
    "import pandas as pd\n",
    "import os\n",
    "import numpy as np\n",
    "import urllib2\n",
    "import sys\n",
    "import json"
   ]
  },
  {
   "cell_type": "code",
   "execution_count": null,
   "metadata": {
    "collapsed": true
   },
   "outputs": [],
   "source": []
  },
  {
   "cell_type": "code",
   "execution_count": 2,
   "metadata": {
    "collapsed": false
   },
   "outputs": [
    {
     "name": "stdout",
     "output_type": "stream",
     "text": [
      "Bus Line: B52\n",
      "Number of Active Busses: 9\n",
      "Bus 0 is at latitude 40.694058 and longitude -73.917584\n",
      "Bus 1 is at latitude 40.699242 and longitude -73.91132\n",
      "Bus 2 is at latitude 40.689243 and longitude -73.924254\n",
      "Bus 3 is at latitude 40.689155 and longitude -73.981581\n",
      "Bus 4 is at latitude 40.686736 and longitude -73.965593\n",
      "Bus 5 is at latitude 40.68712 and longitude -73.962277\n",
      "Bus 6 is at latitude 40.687384 and longitude -73.959979\n",
      "Bus 7 is at latitude 40.696187 and longitude -73.990996\n",
      "Bus 8 is at latitude 40.687813 and longitude -73.936716\n"
     ]
    }
   ],
   "source": [
    "#Imports -\n",
    "from __future__ import print_function\n",
    "import pandas as pd\n",
    "import os\n",
    "import numpy as np\n",
    "import urllib2\n",
    "import sys\n",
    "import json\n",
    "\n",
    "#Sys Arg - dictates what can be entered, and whether all infomation is present. Also stores MTA Key.\n",
    "if len(sys.argv) != 3:\n",
    "    print (\"You did not enter the appropriate number of arguments. Please try again\")\n",
    "    sys.exit()\n",
    "\n",
    "mta_key = \"f029495e-f04b-4c63-ac5d-388cbe8bfb29\"\n",
    "bus_line = \"B52\"\n",
    "\n",
    "url = \"http://bustime.mta.info/api/siri/vehicle-monitoring.json?key=\" + mta_key + \"&VehicleMonitoringDetailLevel=calls&LineRef=\" + bus_line\n",
    "\n",
    "\n",
    "#Reading the Data - this sections helps read/process data into a format that can be manipulated.\n",
    "response = urllib2.urlopen(url)\n",
    "data_rough = response.read()\n",
    "data = json.loads(data_rough)\n",
    "\n",
    "\n",
    "#Getting info for each independent bus\n",
    "indbus = data['Siri']['ServiceDelivery']['VehicleMonitoringDelivery'][0]['VehicleActivity']\n",
    "\n",
    "\n",
    "#Print bus line\n",
    "print(\"Bus Line: \"+ bus_line)\n",
    "\n",
    "\n",
    "#Number of active busses\n",
    "num_bus = str(len(indbus))\n",
    "print(\"Number of Active Busses: \" + num_bus)\n",
    "\n",
    "\n",
    "#Loop to get the location of each independent bus\n",
    "busno = 0\n",
    "for i in indbus:\n",
    "    longitude = str(i['MonitoredVehicleJourney']['VehicleLocation']['Longitude'])\n",
    "    latitude = str(i['MonitoredVehicleJourney']['VehicleLocation']['Latitude'])\n",
    "    print(\"Bus \" + str(busno) + \" is at latitude \" + latitude + \" and longitude \" + longitude)\n",
    "    busno += 1"
   ]
  },
  {
   "cell_type": "code",
   "execution_count": 3,
   "metadata": {
    "collapsed": false
   },
   "outputs": [],
   "source": [
    "#indbus = data['Siri']['ServiceDelivery']['VehicleMonitoringDelivery'][0]['VehicleActivity'][0]\n",
    "#data"
   ]
  },
  {
   "cell_type": "code",
   "execution_count": 42,
   "metadata": {
    "collapsed": false
   },
   "outputs": [
    {
     "name": "stdout",
     "output_type": "stream",
     "text": [
      "Invalid number of arguments. Run as: python  aSimplePythonScript.py YourNameHere\n"
     ]
    },
    {
     "ename": "SystemExit",
     "evalue": "",
     "output_type": "error",
     "traceback": [
      "An exception has occurred, use %tb to see the full traceback.\n",
      "\u001b[1;31mSystemExit\u001b[0m\n"
     ]
    },
    {
     "name": "stderr",
     "output_type": "stream",
     "text": [
      "To exit: use 'exit', 'quit', or Ctrl-D.\n"
     ]
    }
   ],
   "source": [
    "\n",
    "from __future__ import print_function\n",
    "# the next import allows me to read line input arguments\n",
    "import sys\n",
    "\n",
    "\n",
    "# this line checks how many arguments are passed to python\n",
    "# the arguments are stored in sys.argv which is a list\n",
    "# the first argument is the name of the code\n",
    "# so sys.argv is a list with at least one element\n",
    "# with your name in input it will be a list of 2\n",
    "# if you add more than one word as argument it will give you an error as well\n",
    "if not len(sys.argv) == 2:\n",
    "    print (\"Invalid number of arguments. Run as: python  aSimplePythonScript.py YourNameHere\")\n",
    "    sys.exit()\n",
    "\n",
    "# this line prints Hallo and then your name\n",
    "# which you provide as argument\n",
    "print (\"Hello \" + sys.argv[1] + \"!\")"
   ]
  },
  {
   "cell_type": "code",
   "execution_count": 5,
   "metadata": {
    "collapsed": false
   },
   "outputs": [
    {
     "name": "stdout",
     "output_type": "stream",
     "text": [
      "Bus Line: B52\n",
      "Number of Active Busses: 9\n",
      "Bus 0 is at latitude 40.686696 and longitude -73.965933\n",
      "Bus 1 is at latitude 40.688868 and longitude -73.927539\n",
      "Bus 2 is at latitude 40.699242 and longitude -73.91132\n",
      "Bus 3 is at latitude 40.687528 and longitude -73.93919\n",
      "Bus 4 is at latitude 40.687725 and longitude -73.957024\n",
      "Bus 5 is at latitude 40.696734 and longitude -73.914955\n",
      "Bus 6 is at latitude 40.686437 and longitude -73.968191\n",
      "Bus 7 is at latitude 40.693373 and longitude -73.989104\n",
      "Bus 8 is at latitude 40.688431 and longitude -73.979736\n"
     ]
    }
   ],
   "source": [
    "#Imports -\n",
    "from __future__ import print_function\n",
    "import pandas as pd\n",
    "import os\n",
    "import numpy as np\n",
    "import urllib2\n",
    "#for python 3.6 on my computer, a conversion is needed. (see next line of code, and # previous line)\n",
    "#import urllib.request as urllib2\n",
    "import sys\n",
    "import json\n",
    "\n",
    "#Sys Arg - dictates what can be entered, and whether all infomation is present. Also stores MTA Key.\n",
    "if len(sys.argv) != 3:\n",
    "    print (\"You did not enter the appropriate number of arguments. Please try again\")\n",
    "    sys.exit()\n",
    "\n",
    "#mta_key = sys.argv[1]\n",
    "#bus_line = sys.argv[2]\n",
    "mta_key = \"f029495e-f04b-4c63-ac5d-388cbe8bfb29\"\n",
    "bus_line = \"B52\"\n",
    "\n",
    "\n",
    "url = \"http://bustime.mta.info/api/siri/vehicle-monitoring.json?key=\" + mta_key + \"&VehicleMonitoringDetailLevel=calls&LineRef=\" + bus_line\n",
    "\n",
    "\n",
    "#Reading the Data - this sections helps read/process data into a format that can be manipulated.\n",
    "response = urllib2.urlopen(url)\n",
    "data_rough = response.read()\n",
    "data = json.loads(data_rough)\n",
    "\n",
    "\n",
    "#Getting info for each independent bus\n",
    "indbus = data['Siri']['ServiceDelivery']['VehicleMonitoringDelivery'][0]['VehicleActivity']\n",
    "\n",
    "\n",
    "#Print bus line\n",
    "print(\"Bus Line: \"+ bus_line)\n",
    "\n",
    "\n",
    "#Number of active busses\n",
    "num_bus = str(len(indbus))\n",
    "print(\"Number of Active Busses: \" + num_bus)\n",
    "\n",
    "\n",
    "#Loop to get the location of each independent bus\n",
    "busno = 0\n",
    "for i in indbus:\n",
    "    longitude = str(i['MonitoredVehicleJourney']['VehicleLocation']['Longitude'])\n",
    "    latitude = str(i['MonitoredVehicleJourney']['VehicleLocation']['Latitude'])\n",
    "    print(\"Bus \" + str(busno) + \" is at latitude \" + latitude + \" and longitude \" + longitude)\n",
    "    busno += 1"
   ]
  },
  {
   "cell_type": "code",
   "execution_count": null,
   "metadata": {
    "collapsed": true
   },
   "outputs": [],
   "source": []
  }
 ],
 "metadata": {
  "kernelspec": {
   "display_name": "Python 2",
   "language": "python",
   "name": "python2"
  },
  "language_info": {
   "codemirror_mode": {
    "name": "ipython",
    "version": 2
   },
   "file_extension": ".py",
   "mimetype": "text/x-python",
   "name": "python",
   "nbconvert_exporter": "python",
   "pygments_lexer": "ipython2",
   "version": "2.7.11"
  }
 },
 "nbformat": 4,
 "nbformat_minor": 0
}
