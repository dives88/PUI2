{
 "cells": [
  {
   "cell_type": "markdown",
   "metadata": {},
   "source": [
    "# Assignment 1: Test the Z test:\n",
    "\n",
    "(all simulated data)\n",
    "\n",
    "Generate N samples from a distribution of your choice, but not a Gaussian with a chosen mean μ and standard deviation σ: N(μ, σ) and calculate the mean of each sample (all samples should have the same size n).\n",
    "\n",
    "Assess the validity of the Z-test: If the samples are drawn from the distribution you are testing the z-values you calculate should follow a N(0,1) distribution (a Gaussian with mean 0 and standard deviation 1). Show that the distribution of z -statistics (find the formula in a statistics book or in last week’s slides) that you calculated (one for each sample) is indeed consistent with N(0,1)."
   ]
  },
  {
   "cell_type": "code",
   "execution_count": 1,
   "metadata": {
    "collapsed": false
   },
   "outputs": [
    {
     "name": "stdout",
     "output_type": "stream",
     "text": [
      "Populating the interactive namespace from numpy and matplotlib\n"
     ]
    }
   ],
   "source": [
    "from __future__ import print_function, division\n",
    "import pylab as pl\n",
    "import pandas as pd\n",
    "import numpy as np\n",
    "%pylab inline\n",
    "from scipy import stats\n",
    "import scipy.stats\n",
    "import os"
   ]
  },
  {
   "cell_type": "code",
   "execution_count": 55,
   "metadata": {
    "collapsed": false
   },
   "outputs": [],
   "source": [
    "np.random.seed(999)"
   ]
  },
  {
   "cell_type": "markdown",
   "metadata": {},
   "source": [
    "# Original (Poisson) Distribution\n"
   ]
  },
  {
   "cell_type": "code",
   "execution_count": 56,
   "metadata": {
    "collapsed": false
   },
   "outputs": [
    {
     "name": "stdout",
     "output_type": "stream",
     "text": [
      "[101.78, 98.879999999999995, 98.859999999999999, 99.230000000000004, 99.969999999999999, 99.689999999999998, 100.22, 98.390000000000001, 99.930000000000007, 98.920000000000002, 99.890000000000001, 99.269999999999996, 100.42, 100.19, 101.23999999999999, 100.73999999999999, 99.629999999999995, 99.799999999999997, 100.59, 99.629999999999995, 100.12, 99.959999999999994, 98.819999999999993, 100.14, 99.140000000000001, 98.980000000000004, 99.409999999999997, 99.870000000000005, 99.609999999999999, 99.650000000000006, 100.45, 99.0, 99.859999999999999, 100.39, 100.59, 98.599999999999994, 100.75, 98.269999999999996, 99.950000000000003, 100.45, 99.549999999999997, 100.91, 98.069999999999993, 101.09999999999999, 99.930000000000007, 98.049999999999997, 98.640000000000001, 99.099999999999994, 101.86, 99.530000000000001, 99.420000000000002, 98.670000000000002, 101.73999999999999, 98.319999999999993, 101.16, 100.09999999999999, 100.26000000000001, 98.109999999999999, 99.969999999999999, 100.56, 101.0, 100.38, 99.409999999999997, 99.609999999999999, 98.450000000000003, 99.480000000000004, 100.66, 100.19, 99.519999999999996, 98.659999999999997, 99.489999999999995, 98.849999999999994, 99.319999999999993, 101.5, 98.819999999999993, 98.909999999999997, 99.790000000000006, 101.18000000000001, 100.45999999999999, 99.069999999999993, 98.900000000000006, 100.56999999999999, 98.909999999999997, 99.379999999999995, 100.23, 101.78, 100.01000000000001, 97.959999999999994, 98.890000000000001, 100.7, 100.78, 99.390000000000001, 100.45999999999999, 101.89, 100.19, 98.900000000000006, 100.23, 101.33, 99.359999999999999, 99.480000000000004]\n"
     ]
    }
   ],
   "source": [
    "md['pois'] = {} \n",
    "\n",
    "mean = 100\n",
    "sigma = np.sqrt(mean) #is this right?\n",
    "size = 100\n",
    "\n",
    "md['pois']={}\n",
    "md['pois']['means'] = {}\n",
    "\n",
    "#generate n number of distributions(?)\n",
    "for i in range(100):\n",
    "    md['pois'][i] = np.random.poisson(mean, size)\n",
    "    \n",
    "#create a mean for each sample like previous hw\n",
    "for nn in md['pois']:\n",
    "    if not type(nn) == str:\n",
    "        md['pois']['means'][nn] = md['pois'][nn].mean()\n",
    "\n",
    "mymeans = md['pois']['means'].values()\n",
    "print(mymeans)\n",
    "#print(md['pois']['means'])"
   ]
  },
  {
   "cell_type": "code",
   "execution_count": 57,
   "metadata": {
    "collapsed": false
   },
   "outputs": [
    {
     "data": {
      "text/plain": [
       "(array([  1.,   5.,  10.,  15.,  18.,  21.,  17.,   8.,   3.,   2.]),\n",
       " array([  73. ,   78.1,   83.2,   88.3,   93.4,   98.5,  103.6,  108.7,\n",
       "         113.8,  118.9,  124. ]),\n",
       " <a list of 10 Patch objects>)"
      ]
     },
     "execution_count": 57,
     "metadata": {},
     "output_type": "execute_result"
    },
    {
     "data": {
      "image/png": "[encoded data removed]",
      "text/plain": [
       "<matplotlib.figure.Figure at 0x7f06feba8890>"
      ]
     },
     "metadata": {},
     "output_type": "display_data"
    }
   ],
   "source": [
    "#Plotting one sample \n",
    "pl.hist(md['pois'][7])"
   ]
  },
  {
   "cell_type": "code",
   "execution_count": 58,
   "metadata": {
    "collapsed": false
   },
   "outputs": [
    {
     "data": {
      "text/plain": [
       "(array([  6.,   4.,  12.,  23.,  21.,  19.,   7.,   6.,   1.,   1.]),\n",
       " array([  76. ,   81.4,   86.8,   92.2,   97.6,  103. ,  108.4,  113.8,\n",
       "         119.2,  124.6,  130. ]),\n",
       " <a list of 10 Patch objects>)"
      ]
     },
     "execution_count": 58,
     "metadata": {},
     "output_type": "execute_result"
    },
    {
     "data": {
      "image/png": "[encoded data removed]",
      "text/plain": [
       "<matplotlib.figure.Figure at 0x7f06ff003990>"
      ]
     },
     "metadata": {},
     "output_type": "display_data"
    }
   ],
   "source": [
    "#plotting another sample\n",
    "pl.hist(md['pois'][1])"
   ]
  },
  {
   "cell_type": "code",
   "execution_count": 59,
   "metadata": {
    "collapsed": false
   },
   "outputs": [
    {
     "data": {
      "image/png": "[encoded data removed]",
      "text/plain": [
       "<matplotlib.figure.Figure at 0x7f06fefc4b50>"
      ]
     },
     "metadata": {},
     "output_type": "display_data"
    }
   ],
   "source": [
    "#Plot both on the same plot\n",
    "pl.hist(md['pois'][7], alpha = .5);\n",
    "pl.hist(md['pois'][1], alpha =.5);\n",
    "\n",
    "pl.title(\"Two samples from Poisson Distribution\", size = 16)\n",
    "pl.xlabel('Means', size = 14);\n",
    "pl.ylabel('Values of Sample', size = 14);  \n",
    "\n",
    "\n"
   ]
  },
  {
   "cell_type": "markdown",
   "metadata": {},
   "source": [
    "# Apply Z Test"
   ]
  },
  {
   "cell_type": "code",
   "execution_count": 60,
   "metadata": {
    "collapsed": false
   },
   "outputs": [],
   "source": [
    "#Run the test\n",
    "zScores = np.zeros(size,float)\n",
    "\n",
    "for i in range(size):\n",
    "    zScores[i] = (mean - mymeans[i]) / sigma * sqrt(size)\n"
   ]
  },
  {
   "cell_type": "code",
   "execution_count": 61,
   "metadata": {
    "collapsed": false
   },
   "outputs": [],
   "source": [
    "#mymeans"
   ]
  },
  {
   "cell_type": "code",
   "execution_count": 62,
   "metadata": {
    "collapsed": false
   },
   "outputs": [
    {
     "data": {
      "image/png": "[encoded data removed]",
      "text/plain": [
       "<matplotlib.figure.Figure at 0x7f06fe6757d0>"
      ]
     },
     "metadata": {},
     "output_type": "display_data"
    }
   ],
   "source": [
    "#plot \n",
    "fig = pl.figure(figsize=(12,4)) \n",
    "ax = fig.add_subplot(121)\n",
    "\n",
    "ax.hist(zScores)\n",
    "\n",
    "ax.set_title(\"Z scores values for each mean within my random poisson distribution\", size = 14)\n",
    "ax.set_xlabel('X', size = 14);"
   ]
  },
  {
   "cell_type": "code",
   "execution_count": 63,
   "metadata": {
    "collapsed": false
   },
   "outputs": [
    {
     "data": {
      "image/png": "[encoded data removed]",
      "text/plain": [
       "<matplotlib.figure.Figure at 0x7f06fe581b10>"
      ]
     },
     "metadata": {},
     "output_type": "display_data"
    }
   ],
   "source": [
    "np.random.seed(999)\n",
    "N_0 = np.random.normal(0, 1, 100)\n",
    "plt.hist(zScores, alpha = .5);\n",
    "plt.hist(N_0, alpha = .5);"
   ]
  },
  {
   "cell_type": "markdown",
   "metadata": {},
   "source": [
    "# KS & AD Tests \n",
    "$H_0$ = The zScores and gaussian distribution are similar\n",
    "\n",
    "$\\alpha$ = 0.05"
   ]
  },
  {
   "cell_type": "code",
   "execution_count": 64,
   "metadata": {
    "collapsed": false
   },
   "outputs": [
    {
     "name": "stdout",
     "output_type": "stream",
     "text": [
      "Z Scores on normal KstestResult(statistic=0.11683065117561697, pvalue=0.12038119386987356)\n",
      "Z Scores on normal AndersonResult(statistic=0.29986725513694523, critical_values=array([ 0.555,  0.632,  0.759,  0.885,  1.053]), significance_level=array([ 15. ,  10. ,   5. ,   2.5,   1. ]))\n",
      "\n"
     ]
    }
   ],
   "source": [
    "#test ad and ks. those are easy\n",
    "print (\"Z Scores on normal\", scipy.stats.kstest(zScores,'norm'))\n",
    "print (\"Z Scores on normal\", scipy.stats.anderson(zScores, dist='norm'))\n",
    "print (\"\")"
   ]
  },
  {
   "cell_type": "markdown",
   "metadata": {},
   "source": [
    "# Conclusion\n",
    "The zScore results show that the means of poisson distributions are trending towards a gaussian distribution. This can be seen in the histogram above.\n",
    "\n",
    "Both the KS and AD tests support this since:\n",
    "KS Test\n",
    "The P value is greater than the statistical value - therefore you cannot rule out the Null; \n",
    "\n",
    "AD Test\n",
    "The critical value for our alpha value is greater than the statistcal value - therefore you cannot rule out the null."
   ]
  },
  {
   "cell_type": "code",
   "execution_count": null,
   "metadata": {
    "collapsed": true
   },
   "outputs": [],
   "source": []
  },
  {
   "cell_type": "code",
   "execution_count": null,
   "metadata": {
    "collapsed": true
   },
   "outputs": [],
   "source": []
  },
  {
   "cell_type": "code",
   "execution_count": null,
   "metadata": {
    "collapsed": true
   },
   "outputs": [],
   "source": []
  }
 ],
 "metadata": {
  "kernelspec": {
   "display_name": "PUI2016_Python2",
   "language": "python",
   "name": "pui2016_python2"
  },
  "language_info": {
   "codemirror_mode": {
    "name": "ipython",
    "version": 2
   },
   "file_extension": ".py",
   "mimetype": "text/x-python",
   "name": "python",
   "nbconvert_exporter": "python",
   "pygments_lexer": "ipython2",
   "version": "2.7.12"
  }
 },
 "nbformat": 4,
 "nbformat_minor": 0
}
