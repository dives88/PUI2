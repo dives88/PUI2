{
 "cells": [
  {
   "cell_type": "code",
   "execution_count": 71,
   "metadata": {
    "collapsed": false
   },
   "outputs": [
    {
     "data": {
      "text/plain": [
       "<bound method DataFrame.head of      Latitude   Longitude                   Stop Name    Stop Status\n",
       "0   40.700471  -73.910079  PALMETTO ST/ST NICHOLAS AV        at stop\n",
       "1   40.687909  -73.935878           GATES AV/LEWIS AV        at stop\n",
       "2   40.691068  -73.920519        GATES AV/BUSHWICK AV        at stop\n",
       "3   40.686938   -73.94431        GATES AV/TOMPKINS AV        at stop\n",
       "4   40.690828  -73.985773           FULTON ST/HOYT ST        at stop\n",
       "5   40.687274   -73.94137          GATES AV/THROOP AV        at stop\n",
       "6   40.697003  -73.914691   GATES AV/KNICKERBOCKER AV    approaching\n",
       "7   40.687094   -73.95965        GREENE AV/CLASSON AV    approaching\n",
       "8   40.686302  -73.969358     GREENE AV/VANDERBILT AV    approaching\n",
       "9   40.696186  -73.990967       Tillary St (not used)    approaching\n",
       "10  40.696188  -73.991022       Tillary St (not used)    approaching\n",
       "11  40.700555  -73.909994         GATES AV/WYCKOFF AV  < 1 stop away>"
      ]
     },
     "execution_count": 71,
     "metadata": {},
     "output_type": "execute_result"
    }
   ],
   "source": [
    "#Imports -\n",
    "from __future__ import print_function\n",
    "import pandas as pd\n",
    "import os\n",
    "import numpy as np\n",
    "import urllib2\n",
    "import sys\n",
    "import json\n",
    "\n",
    "#Sys Arg - dictates what can be entered, and whether all infomation is present. Also stores MTA Key.\n",
    "#if len(sys.argv) != 4:\n",
    "#    print (\"You did not enter the appropriate number of arguments. Please try again\")\n",
    "#    sys.exit()\n",
    "\n",
    "mta_key = \"f029495e-f04b-4c63-ac5d-388cbe8bfb29\"\n",
    "bus_line = \"B52\"\n",
    "#mta_key = sys.argv[1]\n",
    "#bus_line = sys.argv[2]\n",
    "#bus_line_csv = sys.argv[3]\n",
    "\n",
    "\n",
    "\n",
    "#Reading the Data - this sections helps read/process data into a format that can be manipulated.\n",
    "url = \"http://bustime.mta.info/api/siri/vehicle-monitoring.json?key=\" + mta_key + \"&VehicleMonitoringDetailLevel=calls&LineRef=\" + bus_line\n",
    "response = urllib2.urlopen(url)\n",
    "data_rough = response.read()\n",
    "data = json.loads(data_rough)\n",
    "\n",
    "\n",
    "#Getting info for each independent bus\n",
    "indbus = data['Siri']['ServiceDelivery']['VehicleMonitoringDelivery'][0]['VehicleActivity']\n",
    "\n",
    "\n",
    "#Creating the Data List using a for loop\n",
    "datalist = []\n",
    "\n",
    "for i in indbus:\n",
    "    dict = {}\n",
    "    dict['Latitude'] = str(i['MonitoredVehicleJourney']['VehicleLocation']['Latitude'])\n",
    "    dict['Longitude'] = str(i['MonitoredVehicleJourney']['VehicleLocation']['Longitude'])\n",
    "    try:\n",
    "        dict['Stop Name'] = str(i['MonitoredVehicleJourney']['OnwardCalls']['OnwardCall'][0]['StopPointName'])\n",
    "    except BaseException:\n",
    "        dict['Stop Name'] = 'N/A'\n",
    "    try: \n",
    "        dict['Stop Status'] = str(i['MonitoredVehicleJourney']['OnwardCalls']['OnwardCall'][0]['Extensions']['Distances']['PresentableDistance'])\n",
    "    except BaseException:\n",
    "        dict['Stop Status'] = 'N/A'\n",
    "    datalist.append(dict)\n",
    "      \n",
    "    \n",
    "df = pd.DataFrame(datalist)\n",
    "df.head\n",
    "\n",
    "#Converting Dataframe to CSV File\n",
    "#df.to_csv(str(bus_line_csv))"
   ]
  },
  {
   "cell_type": "code",
   "execution_count": 63,
   "metadata": {
    "collapsed": false
   },
   "outputs": [
    {
     "name": "stdout",
     "output_type": "stream",
     "text": [
      "{u'Distances': {u'CallDistanceAlongRoute': 242.63, u'StopsFromCall': 0, u'PresentableDistance': u'< 1 stop away', u'DistanceFromCall': 219.17}}\n",
      "GATES AV/WYCKOFF AV\n",
      "< 1 stop away\n"
     ]
    }
   ],
   "source": [
    "\n",
    "variable = str(i['MonitoredVehicleJourney']['OnwardCalls']['OnwardCall'][0]['Extensions'])\n",
    "variable1 = str(i['MonitoredVehicleJourney']['OnwardCalls']['OnwardCall'][0]['StopPointName'])\n",
    "variable2 = str(i['MonitoredVehicleJourney']['OnwardCalls']['OnwardCall'][0]['Extensions']['Distances']['PresentableDistance'])\n",
    "print (variable)\n",
    "print (variable1)\n",
    "print (variable2)"
   ]
  },
  {
   "cell_type": "code",
   "execution_count": null,
   "metadata": {
    "collapsed": true
   },
   "outputs": [],
   "source": []
  },
  {
   "cell_type": "code",
   "execution_count": 13,
   "metadata": {
    "collapsed": false
   },
   "outputs": [
    {
     "name": "stdout",
     "output_type": "stream",
     "text": [
      "< 1 stop away\n"
     ]
    }
   ],
   "source": [
    "variable = str(i['MonitoredVehicleJourney']['OnwardCalls']['OnwardCall'][0]['Extensions']['Distances']['PresentableDistance'])\n",
    "print (variable)"
   ]
  },
  {
   "cell_type": "code",
   "execution_count": null,
   "metadata": {
    "collapsed": true
   },
   "outputs": [],
   "source": []
  }
 ],
 "metadata": {
  "kernelspec": {
   "display_name": "Python 2",
   "language": "python",
   "name": "python2"
  },
  "language_info": {
   "codemirror_mode": {
    "name": "ipython",
    "version": 2
   },
   "file_extension": ".py",
   "mimetype": "text/x-python",
   "name": "python",
   "nbconvert_exporter": "python",
   "pygments_lexer": "ipython2",
   "version": "2.7.11"
  }
 },
 "nbformat": 4,
 "nbformat_minor": 0
}
